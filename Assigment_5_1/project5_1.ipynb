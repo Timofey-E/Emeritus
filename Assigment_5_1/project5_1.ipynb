{
  "cells": [
    {
      "cell_type": "markdown",
      "metadata": {
        "id": "CcUT6Fon_qRE"
      },
      "source": [
        "### Required Assignment 5.1: Will the Customer Accept the Coupon?\n",
        "\n",
        "**Context**\n",
        "\n",
        "Imagine driving through town and a coupon is delivered to your cell phone for a restaurant near where you are driving. Would you accept that coupon and take a short detour to the restaurant? Would you accept the coupon but use it on a subsequent trip? Would you ignore the coupon entirely? What if the coupon was for a bar instead of a restaurant? What about a coffee house? Would you accept a bar coupon with a minor passenger in the car? What about if it was just you and your partner in the car? Would weather impact the rate of acceptance? What about the time of day?\n",
        "\n",
        "Obviously, proximity to the business is a factor on whether the coupon is delivered to the driver or not, but what are the factors that determine whether a driver accepts the coupon once it is delivered to them? How would you determine whether a driver is likely to accept a coupon?\n",
        "\n",
        "**Overview**\n",
        "\n",
        "The goal of this project is to use what you know about visualizations and probability distributions to distinguish between customers who accepted a driving coupon versus those that did not.\n",
        "\n",
        "**Data**\n",
        "\n",
        "This data comes to us from the UCI Machine Learning repository and was collected via a survey on Amazon Mechanical Turk. The survey describes different driving scenarios including the destination, current time, weather, passenger, etc., and then ask the person whether he will accept the coupon if he is the driver. Answers that the user will drive there ‘right away’ or ‘later before the coupon expires’ are labeled as ‘Y = 1’ and answers ‘no, I do not want the coupon’ are labeled as ‘Y = 0’.  There are five different types of coupons -- less expensive restaurants (under \\$20), coffee houses, carry out & take away, bar, and more expensive restaurants (\\$20 - $50)."
      ]
    },
    {
      "cell_type": "markdown",
      "metadata": {
        "id": "1wORvMBJ_qRF"
      },
      "source": [
        "**Deliverables**\n",
        "\n",
        "Your final product should be a brief report that highlights the differences between customers who did and did not accept the coupons.  To explore the data you will utilize your knowledge of plotting, statistical summaries, and visualization using Python. You will publish your findings in a public facing github repository as your first portfolio piece.\n",
        "\n",
        "\n",
        "\n"
      ]
    },
    {
      "cell_type": "markdown",
      "metadata": {
        "id": "pG6_Ym6q_qRG"
      },
      "source": [
        "### Data Description\n",
        "Keep in mind that these values mentioned below are average values.\n",
        "\n",
        "The attributes of this data set include:\n",
        "1. User attributes\n",
        "    -  Gender: male, female\n",
        "    -  Age: below 21, 21 to 25, 26 to 30, etc.\n",
        "    -  Marital Status: single, married partner, unmarried partner, or widowed\n",
        "    -  Number of children: 0, 1, or more than 1\n",
        "    -  Education: high school, bachelors degree, associates degree, or graduate degree\n",
        "    -  Occupation: architecture & engineering, business & financial, etc.\n",
        "    -  Annual income: less than \\\\$12500, \\\\$12500 - \\\\$24999, \\\\$25000 - \\\\$37499, etc.\n",
        "    -  Number of times that he/she goes to a bar: 0, less than 1, 1 to 3, 4 to 8 or greater than 8\n",
        "    -  Number of times that he/she buys takeaway food: 0, less than 1, 1 to 3, 4 to 8 or greater\n",
        "    than 8\n",
        "    -  Number of times that he/she goes to a coffee house: 0, less than 1, 1 to 3, 4 to 8 or\n",
        "    greater than 8\n",
        "    -  Number of times that he/she eats at a restaurant with average expense less than \\\\$20 per\n",
        "    person: 0, less than 1, 1 to 3, 4 to 8 or greater than 8\n",
        "    -  Number of times that he/she goes to a bar: 0, less than 1, 1 to 3, 4 to 8 or greater than 8\n",
        "    \n",
        "\n",
        "2. Contextual attributes\n",
        "    - Driving destination: home, work, or no urgent destination\n",
        "    - Location of user, coupon and destination: we provide a map to show the geographical\n",
        "    location of the user, destination, and the venue, and we mark the distance between each\n",
        "    two places with time of driving. The user can see whether the venue is in the same\n",
        "    direction as the destination.\n",
        "    - Weather: sunny, rainy, or snowy\n",
        "    - Temperature: 30F, 55F, or 80F\n",
        "    - Time: 10AM, 2PM, or 6PM\n",
        "    - Passenger: alone, partner, kid(s), or friend(s)\n",
        "\n",
        "\n",
        "3. Coupon attributes\n",
        "    - time before it expires: 2 hours or one day"
      ]
    },
    {
      "cell_type": "code",
      "execution_count": 25,
      "metadata": {
        "id": "dzNoP3o__qRG"
      },
      "outputs": [],
      "source": [
        "import matplotlib.pyplot as plt\n",
        "import seaborn as sns\n",
        "import pandas as pd\n",
        "import numpy as np"
      ]
    },
    {
      "cell_type": "markdown",
      "metadata": {
        "id": "Ct8pI1uE_qRG"
      },
      "source": [
        "### Problems\n",
        "\n",
        "Use the prompts below to get started with your data analysis.  \n",
        "\n",
        "1. Read in the `coupons.csv` file.\n",
        "\n",
        "\n"
      ]
    },
    {
      "cell_type": "code",
      "execution_count": 26,
      "metadata": {
        "id": "X0vbffYg_qRH"
      },
      "outputs": [],
      "source": [
        "data = pd.read_csv('data/coupons.csv')"
      ]
    },
    {
      "cell_type": "code",
      "execution_count": 27,
      "metadata": {
        "id": "TXofQ_DF_qRH",
        "outputId": "2fc96a2c-1112-4b54-f24f-dbb9bc88abfb"
      },
      "outputs": [
        {
          "data": {
            "text/html": [
              "<div>\n",
              "<style scoped>\n",
              "    .dataframe tbody tr th:only-of-type {\n",
              "        vertical-align: middle;\n",
              "    }\n",
              "\n",
              "    .dataframe tbody tr th {\n",
              "        vertical-align: top;\n",
              "    }\n",
              "\n",
              "    .dataframe thead th {\n",
              "        text-align: right;\n",
              "    }\n",
              "</style>\n",
              "<table border=\"1\" class=\"dataframe\">\n",
              "  <thead>\n",
              "    <tr style=\"text-align: right;\">\n",
              "      <th></th>\n",
              "      <th>destination</th>\n",
              "      <th>passanger</th>\n",
              "      <th>weather</th>\n",
              "      <th>temperature</th>\n",
              "      <th>time</th>\n",
              "      <th>coupon</th>\n",
              "      <th>expiration</th>\n",
              "      <th>gender</th>\n",
              "      <th>age</th>\n",
              "      <th>maritalStatus</th>\n",
              "      <th>...</th>\n",
              "      <th>CoffeeHouse</th>\n",
              "      <th>CarryAway</th>\n",
              "      <th>RestaurantLessThan20</th>\n",
              "      <th>Restaurant20To50</th>\n",
              "      <th>toCoupon_GEQ5min</th>\n",
              "      <th>toCoupon_GEQ15min</th>\n",
              "      <th>toCoupon_GEQ25min</th>\n",
              "      <th>direction_same</th>\n",
              "      <th>direction_opp</th>\n",
              "      <th>Y</th>\n",
              "    </tr>\n",
              "  </thead>\n",
              "  <tbody>\n",
              "    <tr>\n",
              "      <th>0</th>\n",
              "      <td>No Urgent Place</td>\n",
              "      <td>Alone</td>\n",
              "      <td>Sunny</td>\n",
              "      <td>55</td>\n",
              "      <td>2PM</td>\n",
              "      <td>Restaurant(&lt;20)</td>\n",
              "      <td>1d</td>\n",
              "      <td>Female</td>\n",
              "      <td>21</td>\n",
              "      <td>Unmarried partner</td>\n",
              "      <td>...</td>\n",
              "      <td>never</td>\n",
              "      <td>NaN</td>\n",
              "      <td>4~8</td>\n",
              "      <td>1~3</td>\n",
              "      <td>1</td>\n",
              "      <td>0</td>\n",
              "      <td>0</td>\n",
              "      <td>0</td>\n",
              "      <td>1</td>\n",
              "      <td>1</td>\n",
              "    </tr>\n",
              "    <tr>\n",
              "      <th>1</th>\n",
              "      <td>No Urgent Place</td>\n",
              "      <td>Friend(s)</td>\n",
              "      <td>Sunny</td>\n",
              "      <td>80</td>\n",
              "      <td>10AM</td>\n",
              "      <td>Coffee House</td>\n",
              "      <td>2h</td>\n",
              "      <td>Female</td>\n",
              "      <td>21</td>\n",
              "      <td>Unmarried partner</td>\n",
              "      <td>...</td>\n",
              "      <td>never</td>\n",
              "      <td>NaN</td>\n",
              "      <td>4~8</td>\n",
              "      <td>1~3</td>\n",
              "      <td>1</td>\n",
              "      <td>0</td>\n",
              "      <td>0</td>\n",
              "      <td>0</td>\n",
              "      <td>1</td>\n",
              "      <td>0</td>\n",
              "    </tr>\n",
              "  </tbody>\n",
              "</table>\n",
              "<p>2 rows × 26 columns</p>\n",
              "</div>"
            ],
            "text/plain": [
              "       destination  passanger weather  temperature  time           coupon  \\\n",
              "0  No Urgent Place      Alone   Sunny           55   2PM  Restaurant(<20)   \n",
              "1  No Urgent Place  Friend(s)   Sunny           80  10AM     Coffee House   \n",
              "\n",
              "  expiration  gender age      maritalStatus  ...  CoffeeHouse CarryAway  \\\n",
              "0         1d  Female  21  Unmarried partner  ...        never       NaN   \n",
              "1         2h  Female  21  Unmarried partner  ...        never       NaN   \n",
              "\n",
              "  RestaurantLessThan20 Restaurant20To50 toCoupon_GEQ5min toCoupon_GEQ15min  \\\n",
              "0                  4~8              1~3                1                 0   \n",
              "1                  4~8              1~3                1                 0   \n",
              "\n",
              "  toCoupon_GEQ25min direction_same direction_opp  Y  \n",
              "0                 0              0             1  1  \n",
              "1                 0              0             1  0  \n",
              "\n",
              "[2 rows x 26 columns]"
            ]
          },
          "execution_count": 27,
          "metadata": {},
          "output_type": "execute_result"
        }
      ],
      "source": [
        "data.head(2)"
      ]
    },
    {
      "cell_type": "markdown",
      "metadata": {},
      "source": [
        "2. Investigate the dataset for missing or problematic data.\n",
        "Study of dataset: dimentionality, type, zero-count"
      ]
    },
    {
      "cell_type": "code",
      "execution_count": 29,
      "metadata": {},
      "outputs": [
        {
          "name": "stdout",
          "output_type": "stream",
          "text": [
            "<class 'pandas.core.frame.DataFrame'>\n",
            "RangeIndex: 12684 entries, 0 to 12683\n",
            "Data columns (total 26 columns):\n",
            " #   Column                Non-Null Count  Dtype \n",
            "---  ------                --------------  ----- \n",
            " 0   destination           12684 non-null  object\n",
            " 1   passanger             12684 non-null  object\n",
            " 2   weather               12684 non-null  object\n",
            " 3   temperature           12684 non-null  int64 \n",
            " 4   time                  12684 non-null  object\n",
            " 5   coupon                12684 non-null  object\n",
            " 6   expiration            12684 non-null  object\n",
            " 7   gender                12684 non-null  object\n",
            " 8   age                   12684 non-null  object\n",
            " 9   maritalStatus         12684 non-null  object\n",
            " 10  has_children          12684 non-null  int64 \n",
            " 11  education             12684 non-null  object\n",
            " 12  occupation            12684 non-null  object\n",
            " 13  income                12684 non-null  object\n",
            " 14  car                   108 non-null    object\n",
            " 15  Bar                   12577 non-null  object\n",
            " 16  CoffeeHouse           12467 non-null  object\n",
            " 17  CarryAway             12533 non-null  object\n",
            " 18  RestaurantLessThan20  12554 non-null  object\n",
            " 19  Restaurant20To50      12495 non-null  object\n",
            " 20  toCoupon_GEQ5min      12684 non-null  int64 \n",
            " 21  toCoupon_GEQ15min     12684 non-null  int64 \n",
            " 22  toCoupon_GEQ25min     12684 non-null  int64 \n",
            " 23  direction_same        12684 non-null  int64 \n",
            " 24  direction_opp         12684 non-null  int64 \n",
            " 25  Y                     12684 non-null  int64 \n",
            "dtypes: int64(8), object(18)\n",
            "memory usage: 2.5+ MB\n"
          ]
        }
      ],
      "source": [
        "data.info(all)"
      ]
    },
    {
      "cell_type": "markdown",
      "metadata": {},
      "source": [
        "Calculation of missing data for each column (in %)"
      ]
    },
    {
      "cell_type": "code",
      "execution_count": 32,
      "metadata": {},
      "outputs": [
        {
          "data": {
            "text/plain": [
              "destination              0.000000\n",
              "passanger                0.000000\n",
              "weather                  0.000000\n",
              "temperature              0.000000\n",
              "time                     0.000000\n",
              "coupon                   0.000000\n",
              "expiration               0.000000\n",
              "gender                   0.000000\n",
              "age                      0.000000\n",
              "maritalStatus            0.000000\n",
              "has_children             0.000000\n",
              "education                0.000000\n",
              "occupation               0.000000\n",
              "income                   0.000000\n",
              "car                     99.148534\n",
              "Bar                      0.843582\n",
              "CoffeeHouse              1.710817\n",
              "CarryAway                1.190476\n",
              "RestaurantLessThan20     1.024913\n",
              "Restaurant20To50         1.490066\n",
              "toCoupon_GEQ5min         0.000000\n",
              "toCoupon_GEQ15min        0.000000\n",
              "toCoupon_GEQ25min        0.000000\n",
              "direction_same           0.000000\n",
              "direction_opp            0.000000\n",
              "Y                        0.000000\n",
              "dtype: float64"
            ]
          },
          "execution_count": 32,
          "metadata": {},
          "output_type": "execute_result"
        }
      ],
      "source": [
        "data.isnull().sum()*100/data.shape[0]"
      ]
    },
    {
      "cell_type": "markdown",
      "metadata": {},
      "source": [
        "3. Decide what to do about your missing data -- drop, replace, other...\n",
        "\n",
        "3.1. 99.1% data from the \"car\" column is missing - I decided not to use data from this column: data.drop('car', axis = 1)"
      ]
    },
    {
      "cell_type": "code",
      "execution_count": 33,
      "metadata": {},
      "outputs": [
        {
          "data": {
            "text/plain": [
              "destination             0.000000\n",
              "passanger               0.000000\n",
              "weather                 0.000000\n",
              "temperature             0.000000\n",
              "time                    0.000000\n",
              "coupon                  0.000000\n",
              "expiration              0.000000\n",
              "gender                  0.000000\n",
              "age                     0.000000\n",
              "maritalStatus           0.000000\n",
              "has_children            0.000000\n",
              "education               0.000000\n",
              "occupation              0.000000\n",
              "income                  0.000000\n",
              "Bar                     0.843582\n",
              "CoffeeHouse             1.710817\n",
              "CarryAway               1.190476\n",
              "RestaurantLessThan20    1.024913\n",
              "Restaurant20To50        1.490066\n",
              "toCoupon_GEQ5min        0.000000\n",
              "toCoupon_GEQ15min       0.000000\n",
              "toCoupon_GEQ25min       0.000000\n",
              "direction_same          0.000000\n",
              "direction_opp           0.000000\n",
              "Y                       0.000000\n",
              "dtype: float64"
            ]
          },
          "execution_count": 33,
          "metadata": {},
          "output_type": "execute_result"
        }
      ],
      "source": [
        "data01 = data.drop('car', axis=1)\n",
        "data01.isnull().sum()*100/data.shape[0]"
      ]
    },
    {
      "cell_type": "markdown",
      "metadata": {},
      "source": [
        "3.2. Study series with a small amount of missing data (less than 1.71%) and save list of columns(column_w_missing) with missings."
      ]
    },
    {
      "cell_type": "code",
      "execution_count": 38,
      "metadata": {},
      "outputs": [
        {
          "name": "stdout",
          "output_type": "stream",
          "text": [
            "Column name: Bar\n",
            "Found 107 NaN values\n",
            "Unique values: ['never' 'less1' '1~3' 'gt8' nan '4~8']\n",
            "\n",
            "Column name: CoffeeHouse\n",
            "Found 217 NaN values\n",
            "Unique values: ['never' 'less1' '4~8' '1~3' 'gt8' nan]\n",
            "\n",
            "Column name: CarryAway\n",
            "Found 151 NaN values\n",
            "Unique values: [nan '4~8' '1~3' 'gt8' 'less1' 'never']\n",
            "\n",
            "Column name: RestaurantLessThan20\n",
            "Found 130 NaN values\n",
            "Unique values: ['4~8' '1~3' 'less1' 'gt8' nan 'never']\n",
            "\n",
            "Column name: Restaurant20To50\n",
            "Found 189 NaN values\n",
            "Unique values: ['1~3' 'less1' 'never' 'gt8' '4~8' nan]\n",
            "\n"
          ]
        }
      ],
      "source": [
        "column_w_missing = []\n",
        "for series_name, series in data01.items():\n",
        "    count = series.isna().sum();\n",
        "    if count > 0:\n",
        "        column_w_missing.append(series_name)\n",
        "        print('Column name:',series_name)\n",
        "        print('Found ' + str(count) + ' NaN values')\n",
        "        print('Unique values: ' + str(series.unique()))\n",
        "        print()"
      ]
    },
    {
      "cell_type": "markdown",
      "metadata": {},
      "source": [
        "3.3. I decided to impute the missing values using mode (because the number of missing values is not significant - less than 1.7%)"
      ]
    },
    {
      "cell_type": "code",
      "execution_count": 42,
      "metadata": {},
      "outputs": [
        {
          "name": "stdout",
          "output_type": "stream",
          "text": [
            "Filled missing values in 'Bar' with mode: never\n",
            "Filled missing values in 'CoffeeHouse' with mode: less1\n",
            "Filled missing values in 'CarryAway' with mode: 1~3\n",
            "Filled missing values in 'RestaurantLessThan20' with mode: 1~3\n",
            "Filled missing values in 'Restaurant20To50' with mode: less1\n"
          ]
        }
      ],
      "source": [
        "for column in column_w_missing:\n",
        "    mode_value = data01[column].mode()[0]\n",
        "    data01.fillna({column: mode_value}, inplace=True)\n",
        "    print(f\"Filled missing values in '{column}' with mode: {mode_value}\")"
      ]
    },
    {
      "cell_type": "markdown",
      "metadata": {},
      "source": [
        "3.4. Final check for cleaning the dataset from NaN(missing values = 0) "
      ]
    },
    {
      "cell_type": "code",
      "execution_count": 46,
      "metadata": {},
      "outputs": [
        {
          "data": {
            "text/plain": [
              "destination             0.0\n",
              "passanger               0.0\n",
              "weather                 0.0\n",
              "temperature             0.0\n",
              "time                    0.0\n",
              "coupon                  0.0\n",
              "expiration              0.0\n",
              "gender                  0.0\n",
              "age                     0.0\n",
              "maritalStatus           0.0\n",
              "has_children            0.0\n",
              "education               0.0\n",
              "occupation              0.0\n",
              "income                  0.0\n",
              "Bar                     0.0\n",
              "CoffeeHouse             0.0\n",
              "CarryAway               0.0\n",
              "RestaurantLessThan20    0.0\n",
              "Restaurant20To50        0.0\n",
              "toCoupon_GEQ5min        0.0\n",
              "toCoupon_GEQ15min       0.0\n",
              "toCoupon_GEQ25min       0.0\n",
              "direction_same          0.0\n",
              "direction_opp           0.0\n",
              "Y                       0.0\n",
              "dtype: float64"
            ]
          },
          "execution_count": 46,
          "metadata": {},
          "output_type": "execute_result"
        }
      ],
      "source": [
        "data01.isnull().sum()*100/data.shape[0]"
      ]
    },
    {
      "cell_type": "markdown",
      "metadata": {},
      "source": [
        "4. What proportion of the total observations chose to accept the coupon?\n",
        "\n",
        "% drivers who accepted coupon out of the entire dataset"
      ]
    },
    {
      "cell_type": "code",
      "execution_count": 59,
      "metadata": {},
      "outputs": [
        {
          "name": "stdout",
          "output_type": "stream",
          "text": [
            "% drivers who accepted coupon =  56.843267108167765\n"
          ]
        },
        {
          "data": {
            "text/plain": [
              "(-1.099998594050433,\n",
              " 1.0999917832121102,\n",
              " -1.0999999970992755,\n",
              " 1.0999999998618704)"
            ]
          },
          "execution_count": 59,
          "metadata": {},
          "output_type": "execute_result"
        },
        {
          "data": {
            "image/png": "[encoded data removed]",
            "text/plain": [
              "<Figure size 640x480 with 1 Axes>"
            ]
          },
          "metadata": {},
          "output_type": "display_data"
        }
      ],
      "source": [
        "YES_drivers = data01['Y'].sum()/(data.shape[0]/100)\n",
        "print('% drivers who accepted coupon = ', YES_drivers)\n",
        "\n",
        "counts = data01['Y'].value_counts()\n",
        "plt.pie(counts, labels = counts.index, autopct='%.1f%%', startangle=90, colors=sns.color_palette('Set2'))\n",
        "plt.title('Proportion of drivers who accepted and did not accept coupons')\n",
        "plt.legend(data['Y'])\n",
        "plt.axis('equal')"
      ]
    },
    {
      "cell_type": "markdown",
      "metadata": {},
      "source": [
        "5. Use a bar plot to visualize the `coupon` column."
      ]
    },
    {
      "cell_type": "code",
      "execution_count": 65,
      "metadata": {},
      "outputs": [
        {
          "data": {
            "image/png": "[encoded data removed]",
            "text/plain": [
              "<Figure size 640x480 with 1 Axes>"
            ]
          },
          "metadata": {},
          "output_type": "display_data"
        }
      ],
      "source": [
        "sns.countplot(x='coupon', hue='Y', data=data01)\n",
        "\n",
        "plt.title('Coupon Acceptance chart')\n",
        "plt.xlabel('Coupon type')\n",
        "plt.ylabel('Count of Coupon Acceptance')\n",
        "plt.xticks(rotation=45)\n",
        "plt.legend(title='Coupon Accepted', loc='upper right')\n",
        "plt.tight_layout()\n",
        "plt.show()"
      ]
    },
    {
      "cell_type": "markdown",
      "metadata": {
        "id": "Qw4lCyx2_qRI"
      },
      "source": [
        "6. Use a histogram to visualize the temperature column."
      ]
    },
    {
      "cell_type": "code",
      "execution_count": 76,
      "metadata": {
        "id": "Yg9Anv71_qRI"
      },
      "outputs": [
        {
          "data": {
            "image/png": "[encoded data removed]",
            "text/plain": [
              "<Figure size 640x480 with 1 Axes>"
            ]
          },
          "metadata": {},
          "output_type": "display_data"
        }
      ],
      "source": [
        "sns.countplot(data = data01, x = 'temperature', hue = 'Y')\n",
        "plt.title('Temperature chart with the number of accepted and rejected coupons')\n",
        "plt.xlabel('Temperature, F')\n",
        "plt.ylabel('Count of Coupon')\n",
        "plt.legend(title='Coupon Accepted', loc = 'upper left')\n",
        "plt.tight_layout()\n",
        "plt.show()"
      ]
    },
    {
      "cell_type": "code",
      "execution_count": null,
      "metadata": {
        "id": "ShcUC-Vm_qRJ"
      },
      "outputs": [],
      "source": []
    },
    {
      "cell_type": "markdown",
      "metadata": {
        "id": "FupfgeJk_qRJ"
      },
      "source": [
        "**Investigating the Bar Coupons**\n",
        "\n",
        "Now, we will lead you through an exploration of just the bar related coupons.  \n",
        "\n",
        "1. Create a new `DataFrame` that contains just the bar coupons.\n"
      ]
    },
    {
      "cell_type": "code",
      "execution_count": 93,
      "metadata": {
        "id": "tMBlWuGq_qRJ"
      },
      "outputs": [
        {
          "name": "stdout",
          "output_type": "stream",
          "text": [
            "<class 'pandas.core.frame.DataFrame'>\n",
            "Index: 2017 entries, 9 to 12682\n",
            "Data columns (total 25 columns):\n",
            " #   Column                Non-Null Count  Dtype \n",
            "---  ------                --------------  ----- \n",
            " 0   destination           2017 non-null   object\n",
            " 1   passanger             2017 non-null   object\n",
            " 2   weather               2017 non-null   object\n",
            " 3   temperature           2017 non-null   int64 \n",
            " 4   time                  2017 non-null   object\n",
            " 5   coupon                2017 non-null   object\n",
            " 6   expiration            2017 non-null   object\n",
            " 7   gender                2017 non-null   object\n",
            " 8   age                   2017 non-null   object\n",
            " 9   maritalStatus         2017 non-null   object\n",
            " 10  has_children          2017 non-null   int64 \n",
            " 11  education             2017 non-null   object\n",
            " 12  occupation            2017 non-null   object\n",
            " 13  income                2017 non-null   object\n",
            " 14  Bar                   2017 non-null   object\n",
            " 15  CoffeeHouse           2017 non-null   object\n",
            " 16  CarryAway             2017 non-null   object\n",
            " 17  RestaurantLessThan20  2017 non-null   object\n",
            " 18  Restaurant20To50      2017 non-null   object\n",
            " 19  toCoupon_GEQ5min      2017 non-null   int64 \n",
            " 20  toCoupon_GEQ15min     2017 non-null   int64 \n",
            " 21  toCoupon_GEQ25min     2017 non-null   int64 \n",
            " 22  direction_same        2017 non-null   int64 \n",
            " 23  direction_opp         2017 non-null   int64 \n",
            " 24  Y                     2017 non-null   int64 \n",
            "dtypes: int64(8), object(17)\n",
            "memory usage: 409.7+ KB\n"
          ]
        }
      ],
      "source": [
        "bar_coupons = data01.loc[data01['coupon'] == 'Bar']\n",
        "bar_coupons.info()"
      ]
    },
    {
      "cell_type": "markdown",
      "metadata": {
        "id": "8ue6uCqf_qRJ"
      },
      "source": [
        "2. What proportion of bar coupons were accepted?\n"
      ]
    },
    {
      "cell_type": "code",
      "execution_count": 98,
      "metadata": {
        "id": "hSdte8Mi_qRK"
      },
      "outputs": [
        {
          "name": "stdout",
          "output_type": "stream",
          "text": [
            "Accepted coupon % = 41.00148735746158\n",
            "Rejected coupon % = 58.99851264253842\n"
          ]
        }
      ],
      "source": [
        "bar_coupons_accept = bar_coupons[bar_coupons['Y'] == 1].shape\n",
        "bar_coupons_reject = bar_coupons[bar_coupons['Y'] == 0].shape\n",
        "print('Accepted coupon % =', 100*bar_coupons_accept[0]/bar_coupons.shape[0])\n",
        "print('Rejected coupon % =', 100*bar_coupons_reject[0]/bar_coupons.shape[0])"
      ]
    },
    {
      "cell_type": "markdown",
      "metadata": {
        "id": "85nA_iEi_qRK"
      },
      "source": [
        "3. Compare the acceptance rate between those who went to a bar 3 or fewer times a month to those who went more.\n"
      ]
    },
    {
      "cell_type": "code",
      "execution_count": 104,
      "metadata": {
        "id": "LBOrN-XM_qRK"
      },
      "outputs": [
        {
          "name": "stdout",
          "output_type": "stream",
          "text": [
            "     Bar         Y\n",
            "0    1~3  0.647355\n",
            "1    4~8  0.780000\n",
            "2    gt8  0.734694\n",
            "3  less1  0.443860\n",
            "4  never  0.192714\n"
          ]
        },
        {
          "data": {
            "text/plain": [
              "<Axes: xlabel='Bar', ylabel='Y'>"
            ]
          },
          "execution_count": 104,
          "metadata": {},
          "output_type": "execute_result"
        },
        {
          "data": {
            "image/png": "[encoded data removed]",
            "text/plain": [
              "<Figure size 640x480 with 1 Axes>"
            ]
          },
          "metadata": {},
          "output_type": "display_data"
        }
      ],
      "source": [
        "Y_rate = bar_coupons.groupby('Bar')['Y'].mean().reset_index()\n",
        "print(Y_rate)\n",
        "\n",
        "sns.barplot(data=bar_coupons, x='Bar', y = 'Y', hue = 'Bar')"
      ]
    },
    {
      "cell_type": "markdown",
      "metadata": {
        "id": "RBgcQwH4_qRK"
      },
      "source": [
        "4. Compare the acceptance rate between drivers who go to a bar more than once a month and are over the age of 25 to the all others.  Is there a difference?\n"
      ]
    },
    {
      "cell_type": "code",
      "execution_count": null,
      "metadata": {
        "id": "bf28bbeX_qRK"
      },
      "outputs": [],
      "source": []
    },
    {
      "cell_type": "markdown",
      "metadata": {
        "id": "S4RKT4PJ_qRK"
      },
      "source": [
        "5. Use the same process to compare the acceptance rate between drivers who go to bars more than once a month and had passengers that were not a kid and had occupations other than farming, fishing, or forestry.\n"
      ]
    },
    {
      "cell_type": "code",
      "execution_count": null,
      "metadata": {
        "id": "sENaI2Tg_qRK"
      },
      "outputs": [],
      "source": []
    },
    {
      "cell_type": "markdown",
      "metadata": {
        "id": "n2LIUTil_qRK"
      },
      "source": [
        "6. Compare the acceptance rates between those drivers who:\n",
        "\n",
        "- go to bars more than once a month, had passengers that were not a kid, and were not widowed *OR*\n",
        "- go to bars more than once a month and are under the age of 30 *OR*\n",
        "- go to cheap restaurants more than 4 times a month and income is less than 50K.\n",
        "\n"
      ]
    },
    {
      "cell_type": "code",
      "execution_count": null,
      "metadata": {
        "id": "aK_wEzx7_qRK"
      },
      "outputs": [],
      "source": []
    },
    {
      "cell_type": "markdown",
      "metadata": {
        "id": "v3fL3QkO_qRK"
      },
      "source": [
        "7.  Based on these observations, what do you hypothesize about drivers who accepted the bar coupons?"
      ]
    },
    {
      "cell_type": "code",
      "execution_count": null,
      "metadata": {
        "id": "Y48naDFh_qRL"
      },
      "outputs": [],
      "source": []
    },
    {
      "cell_type": "markdown",
      "metadata": {
        "id": "r4Hu1zOb_qRL"
      },
      "source": [
        "### Independent Investigation\n",
        "\n",
        "Using the bar coupon example as motivation, you are to explore one of the other coupon groups and try to determine the characteristics of passengers who accept the coupons.  "
      ]
    },
    {
      "cell_type": "code",
      "execution_count": null,
      "metadata": {
        "id": "0c71cQhu_qRL"
      },
      "outputs": [],
      "source": []
    },
    {
      "cell_type": "code",
      "execution_count": null,
      "metadata": {
        "id": "QEsBkvIN_qRL"
      },
      "outputs": [],
      "source": []
    },
    {
      "cell_type": "code",
      "execution_count": null,
      "metadata": {
        "id": "fTC2WGE3_qRL"
      },
      "outputs": [],
      "source": []
    },
    {
      "cell_type": "code",
      "execution_count": null,
      "metadata": {
        "id": "RrqUWn7d_qRL"
      },
      "outputs": [],
      "source": []
    },
    {
      "cell_type": "code",
      "execution_count": null,
      "metadata": {
        "id": "_oykf8YP_qRL"
      },
      "outputs": [],
      "source": []
    }
  ],
  "metadata": {
    "colab": {
      "provenance": []
    },
    "kernelspec": {
      "display_name": "Python 3 (ipykernel)",
      "language": "python",
      "name": "python3"
    },
    "language_info": {
      "codemirror_mode": {
        "name": "ipython",
        "version": 3
      },
      "file_extension": ".py",
      "mimetype": "text/x-python",
      "name": "python",
      "nbconvert_exporter": "python",
      "pygments_lexer": "ipython3",
      "version": "3.12.4"
    }
  },
  "nbformat": 4,
  "nbformat_minor": 0
}
